{
 "cells": [
  {
   "cell_type": "code",
   "execution_count": 6,
   "metadata": {},
   "outputs": [],
   "source": [
    "def GetPlayerLogs(playername, seasons_played: list):\n",
    "    from nba_api.stats.endpoints import PlayerGameLog\n",
    "    from nba_api.stats.static import players\n",
    "    import pandas as pd\n",
    "\n",
    "    # Step 1: Find Player ID\n",
    "    def get_player_id(player_name):\n",
    "        nba_players = players.get_players()  # Get all NBA players\n",
    "        for player in nba_players:\n",
    "            if player['full_name'].lower() == player_name.lower():\n",
    "                return player['id']\n",
    "        return None\n",
    "\n",
    "    # Get Player's ID\n",
    "    player_id = get_player_id(playername)\n",
    "    if not player_id:\n",
    "        print(\"Player not found.\")\n",
    "        return\n",
    "\n",
    "    # Step 2: Retrieve Game Logs for the Seasons\n",
    "    def get_player_game_logs(player_id, season):\n",
    "        try:\n",
    "            game_log = PlayerGameLog(player_id=player_id, season=season)\n",
    "            game_log_data = game_log.get_data_frames()[0]  # Get the first DataFrame\n",
    "            return game_log_data\n",
    "        except Exception as e:\n",
    "            print(f\"Error fetching game logs for season {season}: {e}\")\n",
    "            return pd.DataFrame()  # Return an empty DataFrame if an error occurs\n",
    "\n",
    "    # Fetch the Player's game logs for the specified seasons\n",
    "    game_logs = [get_player_game_logs(player_id, season) for season in seasons_played]\n",
    "\n",
    "    # Combine all DataFrames in the list into one DataFrame\n",
    "    combined_logs = pd.concat(game_logs, ignore_index=True) if game_logs else pd.DataFrame()\n",
    "\n",
    "    # Step 3: Save the Game Logs to a CSV File\n",
    "    if not combined_logs.empty:\n",
    "        min_season = min(seasons_played)\n",
    "        max_season = max(seasons_played)\n",
    "        if max_season == min_season:\n",
    "            filename = f\"{playername}_{max_season}_game_logs.csv\"\n",
    "        else:\n",
    "            filename = f\"{playername}_{min_season}_to_{max_season}_game_logs.csv\"\n",
    "        combined_logs.to_csv(filename, index=False)\n",
    "        print(f\"Game logs saved as {filename}\")\n",
    "    else:\n",
    "        print(\"No game logs found for the specified seasons.\")\n"
   ]
  },
  {
   "cell_type": "code",
   "execution_count": 7,
   "metadata": {},
   "outputs": [
    {
     "name": "stdout",
     "output_type": "stream",
     "text": [
      "Game logs saved as Devin Booker_2010-11_to_2024-25_game_logs.csv\n"
     ]
    },
    {
     "name": "stderr",
     "output_type": "stream",
     "text": [
      "C:\\Users\\20231596\\AppData\\Local\\Temp\\ipykernel_5068\\685996707.py:34: FutureWarning: The behavior of DataFrame concatenation with empty or all-NA entries is deprecated. In a future version, this will no longer exclude empty or all-NA columns when determining the result dtypes. To retain the old behavior, exclude the relevant entries before the concat operation.\n",
      "  combined_logs = pd.concat(game_logs, ignore_index=True) if game_logs else pd.DataFrame()\n"
     ]
    }
   ],
   "source": [
    "GetPlayerLogs('Devin Booker',['2024-25','2023-24','2022-23','2021-22','2020-21','2020-21','2019-20',\n",
    "                              '2018-19','2017-18','2016-17','2015-16','2014-15',\n",
    "                              '2013-14','2012-13','2011-12','2010-11'])"
   ]
  },
  {
   "cell_type": "code",
   "execution_count": 43,
   "metadata": {},
   "outputs": [
    {
     "name": "stdout",
     "output_type": "stream",
     "text": [
      "Game logs saved as Lebron James_2010-11_to_2024-25_game_logs.csv\n"
     ]
    }
   ],
   "source": [
    "GetPlayerLogs('Lebron James',['2024-25','2023-24','2022-23','2021-22','2020-21','2020-21','2019-20',\n",
    "                              '2018-19','2017-18','2016-17','2015-16','2014-15',\n",
    "                              '2013-14','2012-13','2011-12','2010-11'])"
   ]
  },
  {
   "cell_type": "markdown",
   "metadata": {},
   "source": [
    "## Hypothesis 1: Is there a strong correlation in matchups and win %?"
   ]
  },
  {
   "cell_type": "code",
   "execution_count": 53,
   "metadata": {},
   "outputs": [
    {
     "name": "stdout",
     "output_type": "stream",
     "text": [
      "Mean Squared Error: 0.2530191625012806\n",
      "R-squared Score: -0.02280976376647903\n",
      "   Feature  Coefficient\n",
      "18     NYK     0.416667\n",
      "3      CHI     0.400000\n",
      "2      CHA     0.333333\n",
      "5      DAL     0.313725\n",
      "16     MIN     0.285714\n",
      "22     POR     0.257576\n",
      "12     LAL     0.222222\n",
      "20     ORL     0.212121\n",
      "14     MIA     0.200000\n",
      "21     PHI     0.166667\n",
      "25     TOR     0.166667\n",
      "7      DET     0.166667\n",
      "4      CLE     0.166667\n",
      "17     NOP     0.146667\n",
      "13     MEM     0.142857\n",
      "19     OKC     0.142857\n",
      "8      GSW     0.140351\n",
      "6      DEN     0.095238\n",
      "23     SAC     0.089744\n",
      "11     LAC     0.087719\n",
      "10     IND     0.083333\n",
      "27     WAS     0.083333\n",
      "24     SAS     0.066667\n",
      "9      HOU     0.066667\n",
      "26     UTA     0.057971\n",
      "15     MIL     0.051282\n",
      "0      BKN     0.030303\n",
      "1      BOS    -0.083333\n"
     ]
    }
   ],
   "source": [
    "import pandas as pd\n",
    "from sklearn.model_selection import train_test_split\n",
    "from sklearn.linear_model import LinearRegression\n",
    "from sklearn.metrics import mean_squared_error, r2_score\n",
    "\n",
    "# Replace 'file_path.csv' with the path to your CSV file\n",
    "file_path = 'Devin Booker_2010-11_to_2024-25_game_logs.csv'\n",
    "\n",
    "# Read the CSV file into a pandas DataFrame\n",
    "df_devin_booker = pd.read_csv(file_path)\n",
    "\n",
    "# Extract opponent information\n",
    "df_devin_booker ['OPPONENT'] = df_devin_booker ['MATCHUP'].apply(lambda x: x.split()[2] if len(x.split()) > 2 else None)\n",
    "\n",
    "# Convert 'WL' to binary win/loss indicator\n",
    "df_devin_booker ['WL'] = df_devin_booker ['WL'].apply(lambda x: 1 if 'W' in x else 0)\n",
    "\n",
    "# Use only the 'OPPONENT' column for features (make a copy)\n",
    "X = df_devin_booker ['OPPONENT'].copy()\n",
    "\n",
    "# Convert the categorical 'OPPONENT' column into numerical features using one-hot encoding\n",
    "X = pd.get_dummies(X, drop_first=True)\n",
    "\n",
    "# Use 'WL' as the target variable\n",
    "y = df_devin_booker ['WL']\n",
    "\n",
    "# Split data into training and testing sets\n",
    "X_train, X_test, y_train, y_test = train_test_split(X, y, test_size=0.3, random_state=42)\n",
    "\n",
    "# Initialize and train the linear regression model\n",
    "model = LinearRegression()\n",
    "model.fit(X_train, y_train)\n",
    "\n",
    "# Predict on test data\n",
    "y_pred = model.predict(X_test)\n",
    "\n",
    "# Evaluate the model\n",
    "mse = mean_squared_error(y_test, y_pred)\n",
    "r2 = r2_score(y_test, y_pred)\n",
    "\n",
    "print(f\"Mean Squared Error: {mse}\")\n",
    "print(f\"R-squared Score: {r2}\")\n",
    "\n",
    "# Analyze coefficients\n",
    "coefficients = pd.DataFrame({'Feature': X.columns, 'Coefficient': model.coef_})\n",
    "print(coefficients.sort_values(by='Coefficient', ascending=False))\n"
   ]
  },
  {
   "cell_type": "code",
   "execution_count": 62,
   "metadata": {},
   "outputs": [
    {
     "name": "stdout",
     "output_type": "stream",
     "text": [
      "0.5095168374816984\n"
     ]
    }
   ],
   "source": [
    "wins = sum(df_devin_booker['WL'])\n",
    "total = len(df_devin_booker['WL'])\n",
    "\n",
    "print(wins/total)"
   ]
  },
  {
   "cell_type": "code",
   "execution_count": null,
   "metadata": {},
   "outputs": [],
   "source": [
    "# check matchups!"
   ]
  }
 ],
 "metadata": {
  "kernelspec": {
   "display_name": "Python 3",
   "language": "python",
   "name": "python3"
  },
  "language_info": {
   "codemirror_mode": {
    "name": "ipython",
    "version": 3
   },
   "file_extension": ".py",
   "mimetype": "text/x-python",
   "name": "python",
   "nbconvert_exporter": "python",
   "pygments_lexer": "ipython3",
   "version": "3.12.3"
  }
 },
 "nbformat": 4,
 "nbformat_minor": 2
}
