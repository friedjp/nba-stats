{
 "cells": [
  {
   "cell_type": "code",
   "execution_count": 2,
   "metadata": {},
   "outputs": [],
   "source": [
    "def GetPlayerLogs(playername, seasons_played: list):\n",
    "    from nba_api.stats.endpoints import PlayerGameLog\n",
    "    from nba_api.stats.static import players\n",
    "    import pandas as pd\n",
    "\n",
    "    # Step 1: Find Player ID\n",
    "    def get_player_id(player_name):\n",
    "        nba_players = players.get_players()  # Get all NBA players\n",
    "        for player in nba_players:\n",
    "            if player['full_name'].lower() == player_name.lower():\n",
    "                return player['id']\n",
    "        return None\n",
    "\n",
    "    # Get Player's ID\n",
    "    player_id = get_player_id(playername)\n",
    "    if not player_id:\n",
    "        print(\"Player not found.\")\n",
    "        return\n",
    "\n",
    "    # Step 2: Retrieve Game Logs for the Seasons\n",
    "    def get_player_game_logs(player_id, season):\n",
    "        try:\n",
    "            game_log = PlayerGameLog(player_id=player_id, season=season)\n",
    "            game_log_data = game_log.get_data_frames()[0]  # Get the first DataFrame\n",
    "            return game_log_data\n",
    "        except Exception as e:\n",
    "            print(f\"Error fetching game logs for season {season}: {e}\")\n",
    "            return pd.DataFrame()  # Return an empty DataFrame if an error occurs\n",
    "\n",
    "    # Fetch the Player's game logs for the specified seasons\n",
    "    game_logs = [get_player_game_logs(player_id, season) for season in seasons_played]\n",
    "\n",
    "    # Combine all DataFrames in the list into one DataFrame\n",
    "    combined_logs = pd.concat(game_logs, ignore_index=True) if game_logs else pd.DataFrame()\n",
    "\n",
    "    # Step 3: Save the Game Logs to a CSV File\n",
    "    if not combined_logs.empty:\n",
    "        min_season = min(seasons_played)\n",
    "        max_season = max(seasons_played)\n",
    "        if max_season == min_season:\n",
    "            filename = f\"{playername}_{max_season}_game_logs.csv\"\n",
    "        else:\n",
    "            filename = f\"{playername}_{min_season}_to_{max_season}_game_logs.csv\"\n",
    "        combined_logs.to_csv(filename, index=False)\n",
    "        print(f\"Game logs saved as {filename}\")\n",
    "    else:\n",
    "        print(\"No game logs found for the specified seasons.\")\n"
   ]
  },
  {
   "cell_type": "code",
   "execution_count": 3,
   "metadata": {},
   "outputs": [
    {
     "name": "stdout",
     "output_type": "stream",
     "text": [
      "Game logs saved as Devin Booker_2022-23_game_logs.csv\n"
     ]
    }
   ],
   "source": [
    "GetPlayerLogs('Devin Booker',['2022-23'])"
   ]
  }
 ],
 "metadata": {
  "kernelspec": {
   "display_name": "Python 3",
   "language": "python",
   "name": "python3"
  },
  "language_info": {
   "codemirror_mode": {
    "name": "ipython",
    "version": 3
   },
   "file_extension": ".py",
   "mimetype": "text/x-python",
   "name": "python",
   "nbconvert_exporter": "python",
   "pygments_lexer": "ipython3",
   "version": "3.12.3"
  }
 },
 "nbformat": 4,
 "nbformat_minor": 2
}
